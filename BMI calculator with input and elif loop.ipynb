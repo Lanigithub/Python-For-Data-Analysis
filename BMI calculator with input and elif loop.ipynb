{
 "cells": [
  {
   "cell_type": "code",
   "execution_count": 7,
   "metadata": {},
   "outputs": [
    {
     "name": "stdout",
     "output_type": "stream",
     "text": [
      "What is your name: ll\n",
      "Enter your height in cm: -5\n",
      "Enter your weight in kg: 6\n",
      "Hi   ll , Thanks for entering your info!\n",
      "Your Body Mass Index is:  2399.9999999999995\n",
      "Enter valid info: \n"
     ]
    }
   ],
   "source": [
    "# promt input name, height(float), weight( float)\n",
    "Name=input(\"What is your name: \")\n",
    "Height=float(input(\"Enter your height in cm: \"))\n",
    "Weight=float(input(\"Enter your weight in kg: \"))\n",
    "Height= Height/100 # convert cm to m\n",
    "BMI= Weight/(Height*Height)  # BMI calculator  Kg/m^2\n",
    "print(\"Hi  \", Name, \", Thanks for entering your info!\")\n",
    "print(\"Your Body Mass Index is: \", BMI)\n",
    "if (BMI>0 and Height>0):\n",
    "    if(BMI<=16):\n",
    "        print(\"You are severely underweight\")\n",
    "    elif(BMI<=18):\n",
    "        print(\"You are underweight\")\n",
    "    elif(BMI<= 25):\n",
    "        print(\"You are healthy\")\n",
    "    elif(BMI<=30):\n",
    "        print(\"You are overweight\")\n",
    "    else:\n",
    "        print(\" You are severely overweight\")\n",
    "        \n",
    "else:\n",
    "    print(\"Enter valid info: \")\n",
    "    \n",
    "        \n",
    "    "
   ]
  },
  {
   "cell_type": "code",
   "execution_count": null,
   "metadata": {},
   "outputs": [],
   "source": []
  },
  {
   "cell_type": "code",
   "execution_count": null,
   "metadata": {},
   "outputs": [],
   "source": []
  },
  {
   "cell_type": "code",
   "execution_count": null,
   "metadata": {},
   "outputs": [],
   "source": []
  },
  {
   "cell_type": "code",
   "execution_count": null,
   "metadata": {},
   "outputs": [],
   "source": []
  },
  {
   "cell_type": "code",
   "execution_count": null,
   "metadata": {},
   "outputs": [],
   "source": []
  },
  {
   "cell_type": "code",
   "execution_count": null,
   "metadata": {},
   "outputs": [],
   "source": []
  },
  {
   "cell_type": "code",
   "execution_count": null,
   "metadata": {},
   "outputs": [],
   "source": []
  },
  {
   "cell_type": "code",
   "execution_count": null,
   "metadata": {},
   "outputs": [],
   "source": []
  }
 ],
 "metadata": {
  "kernelspec": {
   "display_name": "Python 3",
   "language": "python",
   "name": "python3"
  },
  "language_info": {
   "codemirror_mode": {
    "name": "ipython",
    "version": 3
   },
   "file_extension": ".py",
   "mimetype": "text/x-python",
   "name": "python",
   "nbconvert_exporter": "python",
   "pygments_lexer": "ipython3",
   "version": "3.7.1"
  }
 },
 "nbformat": 4,
 "nbformat_minor": 2
}
