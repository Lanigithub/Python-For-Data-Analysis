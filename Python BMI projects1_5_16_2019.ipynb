{
 "cells": [
  {
   "cell_type": "code",
   "execution_count": 17,
   "metadata": {},
   "outputs": [
    {
     "name": "stdout",
     "output_type": "stream",
     "text": [
      "true\n"
     ]
    }
   ],
   "source": [
    "a=5                 # 5 assigned to a\n",
    "b=7               # 7 assigned to b\n",
    "if a > b:          # if space a space > space b then colon \n",
    "    print(\"false\")   # spaces then print()\n",
    "                        # you could have more lines under if cause + 4 spaces if front of each line\n",
    "else:                # else colon\n",
    "    print(\"true\")       # 4 spaces then print"
   ]
  },
  {
   "cell_type": "code",
   "execution_count": 18,
   "metadata": {},
   "outputs": [
    {
     "name": "stdout",
     "output_type": "stream",
     "text": [
      "bye\n",
      "Elena\n"
     ]
    }
   ],
   "source": [
    "c=3\n",
    "d=2.5\n",
    "x=a+d   # x=7.5\n",
    "y=b+c   # y=10\n",
    "if x >= y:\n",
    "    print(\"Hello\")\n",
    "    print(\"mike\")\n",
    "else:\n",
    "    if x == y:\n",
    "        print(\"My dear\")\n",
    "    else:\n",
    "        print(\"bye\")\n",
    "        print(\"Elena\")"
   ]
  },
  {
   "cell_type": "code",
   "execution_count": 19,
   "metadata": {},
   "outputs": [],
   "source": [
    "# Next will be family BMI project with varaibles, list, if/else"
   ]
  },
  {
   "cell_type": "code",
   "execution_count": 33,
   "metadata": {},
   "outputs": [
    {
     "name": "stdout",
     "output_type": "stream",
     "text": [
      "Elena\n"
     ]
    }
   ],
   "source": [
    "Name1=\"Elena\"\n",
    "Name2=\"Lani\"\n",
    "Name3=\"Vincent\"\n",
    "Name4=\"Bryan\"\n",
    "Name5=\"CJ\"\n",
    "Names=[Name1, Name2, Name3, Name4,Name5]  #list\n",
    "print(Names[0])    #index 0 is first name on the list"
   ]
  },
  {
   "cell_type": "code",
   "execution_count": 34,
   "metadata": {},
   "outputs": [
    {
     "name": "stdout",
     "output_type": "stream",
     "text": [
      "1.44\n"
     ]
    }
   ],
   "source": [
    "Height_E_m=1.42\n",
    "Height_L_m=1.55\n",
    "Height_V_m=1.70\n",
    "Height_B_m=1.44\n",
    "Height_CJ_m=1.72\n",
    "\n",
    "Heights=[Height_E_m,Height_L_m,Height_V_m,Height_B_m,Height_CJ_m]  # list using square brackets\n",
    "\n",
    "print(Heights[3])  # list index starts from 0, so 3 is the number 4 on the list\n"
   ]
  },
  {
   "cell_type": "code",
   "execution_count": 48,
   "metadata": {},
   "outputs": [
    {
     "name": "stdout",
     "output_type": "stream",
     "text": [
      "51.5\n"
     ]
    }
   ],
   "source": [
    "Weight_E_KG=44\n",
    "Weight_L_KG=51\n",
    "Weight_V_KG=51.5\n",
    "Weight_B_KG= 35\n",
    "Weight_CJ_KG=82\n",
    "\n",
    "Weights=[Weight_E_KG,Weight_L_KG,Weight_V_KG,Weight_B_KG,Weight_CJ_KG]\n",
    "#indexing the list 0    1        2                3        4\n",
    "print(Weights[2])\n"
   ]
  },
  {
   "cell_type": "code",
   "execution_count": 36,
   "metadata": {},
   "outputs": [
    {
     "name": "stdout",
     "output_type": "stream",
     "text": [
      "15.0\n"
     ]
    }
   ],
   "source": [
    "weight= 60\n",
    "height=2\n",
    "BMI=weight/(height**2)\n",
    "print(BMI)"
   ]
  },
  {
   "cell_type": "code",
   "execution_count": 37,
   "metadata": {},
   "outputs": [
    {
     "name": "stdout",
     "output_type": "stream",
     "text": [
      "21.821067248561793\n"
     ]
    }
   ],
   "source": [
    "BMI_E=Weight_E_KG/(Height_E_m ** 2)\n",
    "print(BMI_E)"
   ]
  },
  {
   "cell_type": "code",
   "execution_count": 38,
   "metadata": {},
   "outputs": [
    {
     "name": "stdout",
     "output_type": "stream",
     "text": [
      "BMI_E=21.821067248561793\n",
      "Normal\n"
     ]
    }
   ],
   "source": [
    "Height_E_m=1.42\n",
    "Weight_E_KG=44\n",
    "BMI_E=Weight_E_KG/(Height_E_m ** 2)\n",
    "\n",
    "print(\"BMI_E=\" + str(BMI_E))\n",
    "\n",
    "if BMI_E >25:\n",
    "    print(Names[0]+ \" is overweight\")\n",
    "else:\n",
    "    print(\"Normal\")\n",
    "\n"
   ]
  },
  {
   "cell_type": "code",
   "execution_count": 39,
   "metadata": {},
   "outputs": [
    {
     "name": "stdout",
     "output_type": "stream",
     "text": [
      "BMI_E=21.821067248561793\n",
      "Elena is overweight\n"
     ]
    }
   ],
   "source": [
    "Height_E_m = 1.42\n",
    "Weight_E_KG = 44\n",
    "BMI_E = Weight_E_KG/(Height_E_m ** 2)\n",
    "\n",
    "print(\"BMI_E=\" + str(BMI_E))  # or you can write print(\"BMI_E=\") # next line: print(BMI_E)\n",
    "\n",
    "if BMI_E > 21:\n",
    "    print(\"Elena is overweight\")\n",
    "else:\n",
    "    print(\"Elena is normal weight\")"
   ]
  },
  {
   "cell_type": "code",
   "execution_count": 40,
   "metadata": {},
   "outputs": [
    {
     "name": "stdout",
     "output_type": "stream",
     "text": [
      "BMI_E=\n",
      "21.821067248561793\n",
      "Elena is overweight\n"
     ]
    }
   ],
   "source": [
    "Height_E_m = 1.42\n",
    "Weight_E_KG = 44\n",
    "BMI_E = Weight_E_KG/(Height_E_m ** 2)\n",
    "\n",
    "print(\"BMI_E=\")  # or you can write print(\"BMI_E=\") # next line: print(BMI_E)\n",
    "print(BMI_E)\n",
    "if BMI_E > 21:\n",
    "    print(\"Elena is overweight\")\n",
    "else:\n",
    "    print(\"Elena is normal weight\")"
   ]
  },
  {
   "cell_type": "code",
   "execution_count": 41,
   "metadata": {},
   "outputs": [],
   "source": [
    "# define BMI_1 in genearl in the list with Names[], Weights[], Heights[]"
   ]
  },
  {
   "cell_type": "code",
   "execution_count": 42,
   "metadata": {},
   "outputs": [
    {
     "name": "stdout",
     "output_type": "stream",
     "text": [
      "BMI_1=\n",
      "21.227887617065555\n",
      "Lani has BMI of \n",
      "21.227887617065555\n"
     ]
    }
   ],
   "source": [
    "\n",
    "BMI_1=Weights[1]/(Heights[1]**2)\n",
    "print(\"BMI_1=\")\n",
    "print(BMI_1)\n",
    "print(Names[1]+\" has BMI of \")\n",
    "print(BMI_1)"
   ]
  },
  {
   "cell_type": "code",
   "execution_count": 43,
   "metadata": {},
   "outputs": [
    {
     "name": "stdout",
     "output_type": "stream",
     "text": [
      "Lani is normal\n"
     ]
    }
   ],
   "source": [
    "if BMI_1 >25:\n",
    "    print(Names[1]+\" is overweight\")\n",
    "else:\n",
    "    print(Names[1]+\" is normal\")"
   ]
  },
  {
   "cell_type": "code",
   "execution_count": 44,
   "metadata": {},
   "outputs": [
    {
     "name": "stdout",
     "output_type": "stream",
     "text": [
      "BMI_2=\n",
      "17.82006920415225\n",
      "Vincent has BMI of \n",
      "17.82006920415225\n",
      "Vincent is underweight\n"
     ]
    }
   ],
   "source": [
    "BMI_2=Weights[2]/(Heights[2]**2)\n",
    "print(\"BMI_2=\")\n",
    "print(BMI_2)\n",
    "print(Names[2]+\" has BMI of \")\n",
    "print(BMI_2)\n",
    "\n",
    "if BMI_2 >25:\n",
    "    print(Names[2]+\" is overweight\")\n",
    "else:\n",
    "    if BMI_2<19:\n",
    "        print(Names[2]+\" is underweight\") \n",
    "    else:\n",
    "        print(Names[2]+\" is normal\")"
   ]
  },
  {
   "cell_type": "code",
   "execution_count": 46,
   "metadata": {},
   "outputs": [
    {
     "name": "stdout",
     "output_type": "stream",
     "text": [
      "BMI_3=\n",
      "16.878858024691358\n",
      "Bryan has BMI of \n",
      "16.878858024691358\n",
      "Bryan is underweight\n"
     ]
    }
   ],
   "source": [
    "BMI_3=Weights[3]/(Heights[3]**2)\n",
    "print(\"BMI_3=\")\n",
    "print(BMI_3)\n",
    "print(Names[3]+\" has BMI of \")\n",
    "print(BMI_3)\n",
    "\n",
    "if BMI_3 >25:\n",
    "    print(Names[3]+\" is overweight\")\n",
    "else:\n",
    "    if BMI_3<19:\n",
    "        print(Names[3]+\" is underweight\") \n",
    "    else:\n",
    "        print(Names[3]+\" is normal\")"
   ]
  },
  {
   "cell_type": "code",
   "execution_count": 49,
   "metadata": {},
   "outputs": [
    {
     "name": "stdout",
     "output_type": "stream",
     "text": [
      "BMI_4=\n",
      "27.717685235262305\n",
      "CJ has BMI of \n",
      "27.717685235262305\n",
      "CJ is overweight\n"
     ]
    }
   ],
   "source": [
    "BMI_4=Weights[4]/(Heights[4]**2)\n",
    "print(\"BMI_4=\")\n",
    "print(BMI_4)\n",
    "print(Names[4]+\" has BMI of \")\n",
    "print(BMI_4)\n",
    "\n",
    "if BMI_4 >25:\n",
    "    print(Names[4]+\" is overweight\")\n",
    "else:\n",
    "    if BMI_4<19:\n",
    "        print(Names[4]+\" is underweight\") \n",
    "    else:\n",
    "        print(Names[4]+\" is normal\")"
   ]
  },
  {
   "cell_type": "code",
   "execution_count": null,
   "metadata": {},
   "outputs": [],
   "source": []
  }
 ],
 "metadata": {
  "kernelspec": {
   "display_name": "Python 3",
   "language": "python",
   "name": "python3"
  },
  "language_info": {
   "codemirror_mode": {
    "name": "ipython",
    "version": 3
   },
   "file_extension": ".py",
   "mimetype": "text/x-python",
   "name": "python",
   "nbconvert_exporter": "python",
   "pygments_lexer": "ipython3",
   "version": "3.7.1"
  }
 },
 "nbformat": 4,
 "nbformat_minor": 2
}
